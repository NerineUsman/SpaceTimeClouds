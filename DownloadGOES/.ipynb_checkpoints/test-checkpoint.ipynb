{
 "cells": [
  {
   "cell_type": "markdown",
   "metadata": {},
   "source": [
    "# Simple plot\n",
    "This jupyter notebook shows how to download data from GOES-16 and make a simple plot using the **GOES** package."
   ]
  },
  {
   "cell_type": "markdown",
   "metadata": {},
   "source": [
    "Import the packages."
   ]
  },
  {
   "cell_type": "code",
   "execution_count": 29,
   "metadata": {},
   "outputs": [
    {
     "ename": "ModuleNotFoundError",
     "evalue": "No module named 'cartopy'",
     "output_type": "error",
     "traceback": [
      "\u001b[1;31m---------------------------------------------------------------------------\u001b[0m",
      "\u001b[1;31mModuleNotFoundError\u001b[0m                       Traceback (most recent call last)",
      "\u001b[1;32m~\\AppData\\Local\\Temp/ipykernel_10884/3706462755.py\u001b[0m in \u001b[0;36m<module>\u001b[1;34m\u001b[0m\n\u001b[0;32m      3\u001b[0m \u001b[1;32mimport\u001b[0m \u001b[0mnetCDF4\u001b[0m \u001b[1;32mas\u001b[0m \u001b[0mnc\u001b[0m\u001b[1;33m\u001b[0m\u001b[1;33m\u001b[0m\u001b[0m\n\u001b[0;32m      4\u001b[0m \u001b[1;33m\u001b[0m\u001b[0m\n\u001b[1;32m----> 5\u001b[1;33m \u001b[1;32mimport\u001b[0m \u001b[0mcartopy\u001b[0m\u001b[1;33m.\u001b[0m\u001b[0mcrs\u001b[0m \u001b[1;32mas\u001b[0m \u001b[0mccrs\u001b[0m\u001b[1;33m\u001b[0m\u001b[1;33m\u001b[0m\u001b[0m\n\u001b[0m\u001b[0;32m      6\u001b[0m \u001b[1;31m# from cartopy.feature import NaturalEarthFeature\u001b[0m\u001b[1;33m\u001b[0m\u001b[1;33m\u001b[0m\u001b[1;33m\u001b[0m\u001b[0m\n",
      "\u001b[1;31mModuleNotFoundError\u001b[0m: No module named 'cartopy'"
     ]
    }
   ],
   "source": [
    "import GOES as GOES\n",
    "import matplotlib.pyplot as plt\n",
    "import netCDF4 as nc\n",
    "\n",
    "# import cartopy.crs as ccrs\n",
    "# from cartopy.feature import NaturalEarthFeature"
   ]
  },
  {
   "cell_type": "markdown",
   "metadata": {},
   "source": [
    "Downloads the file."
   ]
  },
  {
   "cell_type": "code",
   "execution_count": 6,
   "metadata": {},
   "outputs": [
    {
     "name": "stdout",
     "output_type": "stream",
     "text": [
      "Files:\n",
      "  OR_ABI-L2-ACHAF-M6_G16_s20200012030216_e20200012039524_c20200012041302.nc 100% 1.5MB 1s\n"
     ]
    }
   ],
   "source": [
    "flist = GOES.download('goes16', 'ABI-L2-ACHAF', # see https://www.noaa.gov/organization/information-technology/list-of-big-data-program-datasets for product names\n",
    "                      DateTimeIni = '20200101-203000', DateTimeFin = '20200101-204000', \n",
    "#                       channel = ['13'],\n",
    "                      path_out='./data/')"
   ]
  },
  {
   "cell_type": "markdown",
   "metadata": {},
   "source": [
    "Set the path and name of file that we will use. In this case that information is in flist."
   ]
  },
  {
   "cell_type": "code",
   "execution_count": 7,
   "metadata": {},
   "outputs": [
    {
     "name": "stdout",
     "output_type": "stream",
     "text": [
      "./data/OR_ABI-L2-ACHAF-M6_G16_s20200012030216_e20200012039524_c20200012041302.nc\n"
     ]
    }
   ],
   "source": [
    "file = flist[0]\n",
    "print(file)"
   ]
  },
  {
   "cell_type": "markdown",
   "metadata": {},
   "source": [
    "Gets data from file."
   ]
  },
  {
   "cell_type": "code",
   "execution_count": 28,
   "metadata": {},
   "outputs": [
    {
     "data": {
      "text/plain": [
       "<class 'netCDF4._netCDF4.Variable'>\n",
       "int8 DQF(y, x)\n",
       "    _FillValue: -1\n",
       "    long_name: ABI L2+ Cloud Top Height data quality flags\n",
       "    standard_name: status_flag\n",
       "    _Unsigned: true\n",
       "    valid_range: [0 6]\n",
       "    units: 1\n",
       "    coordinates: local_zenith_angle solar_zenith_angle t y x\n",
       "    grid_mapping: goes_imager_projection\n",
       "    cell_methods: local_zenith_angle: point solar_zenith_angle: point t: point area: point\n",
       "    flag_values: [0 1 2 3 4 5 6]\n",
       "    flag_meanings: good_quality_qf invalid_due_to_not_geolocated_qf invalid_due_to_LZA_threshold_exceeded_qf invalid_due_to_bad_or_missing_brightness_temp_data_qf invalid_due_to_clear_or_probably_clear_sky_qf invalid_due_to_unknown_cloud_type_qf invalid_due_to_nonconvergent_retrieval_qf\n",
       "    number_of_qf_values: 7\n",
       "    percent_good_quality_qf: 0.7044662\n",
       "    percent_invalid_due_to_not_geolocated_qf: 0.1319054\n",
       "    percent_invalid_due_to_LZA_threshold_exceeded_qf: 0.1150033\n",
       "    percent_invalid_due_to_bad_or_missing_brightness_temp_data_qf: 0.0110096\n",
       "    percent_invalid_due_to_clear_or_probably_clear_sky_qf: 0.17677\n",
       "    percent_invalid_due_to_unknown_cloud_type_qf: 0.0\n",
       "    percent_invalid_due_to_nonconvergent_retrieval_qf: 6.39e-05\n",
       "unlimited dimensions: \n",
       "current shape = (1086, 1086)\n",
       "filling on"
      ]
     },
     "execution_count": 28,
     "metadata": {},
     "output_type": "execute_result"
    }
   ],
   "source": [
    "ds = nc.Dataset(file)\n",
    "ds.variables['DQF']\n",
    "# ds"
   ]
  },
  {
   "cell_type": "code",
   "execution_count": 22,
   "metadata": {},
   "outputs": [
    {
     "data": {
      "text/plain": [
       "<bound method open_dataset.variable of <class 'GOES.processing.processing_data.open_dataset'>\n",
       "\n",
       "attribute:\n",
       "   naming_authority              : gov.nesdis.noaa\n",
       "   Conventions                   : CF-1.7\n",
       "   Metadata_Conventions          : Unidata Dataset Discovery v1.0\n",
       "   standard_name_vocabulary      : CF Standard Name Table (v35, 20 July 2016)\n",
       "   institution                   : DOC/NOAA/NESDIS > U.S. Department of Commerce, N...\n",
       "   project                       : GOES\n",
       "   production_site               : NSOF\n",
       "   production_environment        : OE\n",
       "   spatial_resolution            : 10km at nadir\n",
       "   orbital_slot                  : GOES-East\n",
       "   platform_ID                   : G16\n",
       "   instrument_type               : GOES R Series Advanced Baseline Imager\n",
       "   scene_id                      : Full Disk\n",
       "   instrument_ID                 : FM1\n",
       "   dataset_name                  : OR_ABI-L2-ACHAF-M6_G16_s20200012030216_e20200012...\n",
       "   iso_series_metadata_id        : 4571d650-b00c-11e1-afa6-0800200c9a66\n",
       "   title                         : ABI L2 Cloud Top Height\n",
       "   summary                       : The Cloud Top Height product consists of the hei...\n",
       "   keywords                      : ATMOSPHERE > CLOUDS > CLOUD HEIGHT\n",
       "   keywords_vocabulary           : NASA Global Change Master Directory (GCMD) Earth...\n",
       "   license                       : Unclassified data.  Access is restricted to appr...\n",
       "   processing_level              : National Aeronautics and Space Administration (N...\n",
       "   date_created                  : 2020-01-01T20:41:30.2Z\n",
       "   cdm_data_type                 : Image\n",
       "   time_coverage_start           : 2020-01-01T20:30:21.6Z\n",
       "   time_coverage_end             : 2020-01-01T20:39:52.4Z\n",
       "   timeline_id                   : ABI Mode 6\n",
       "   production_data_source        : Realtime\n",
       "   id                            : 158a7a9d-2681-4618-9fe7-ef943d2d63f0\n",
       "\n",
       "dimension:\n",
       "   y                                                  (1086)\n",
       "   x                                                  (1086)\n",
       "   number_of_time_bounds                              (2)\n",
       "   number_of_image_bounds                             (2)\n",
       "   number_of_LZA_bounds                               (2)\n",
       "   number_of_SZA_bounds                               (2)\n",
       "\n",
       "variable:\n",
       "   t                                                  () float64\n",
       "   goes_imager_projection                             () int32\n",
       "   y_image                                            () float32\n",
       "   x_image                                            () float32\n",
       "   nominal_satellite_subpoint_lat                     () float32\n",
       "   nominal_satellite_subpoint_lon                     () float32\n",
       "   nominal_satellite_height                           () float32\n",
       "   geospatial_lat_lon_extent                          () float32\n",
       "   outlier_pixels                                     () int32\n",
       "   minimum_cloud_top_height                           () float32\n",
       "   maximum_cloud_top_height                           () float32\n",
       "   mean_cloud_top_height                              () float32\n",
       "   std_dev_cloud_top_height                           () float32\n",
       "   algorithm_dynamic_input_data_container             () int32\n",
       "   processing_parm_version_container                  () int32\n",
       "   algorithm_product_version_container                () int32\n",
       "   local_zenith_angle                                 () float32\n",
       "   solar_zenith_angle                                 () float32\n",
       "   percent_uncorrectable_GRB_errors                   () float32\n",
       "   percent_uncorrectable_L0_errors                    () float32\n",
       "   cloud_pixels                                       () int32\n",
       "   y                                                  (y) int16\n",
       "   x                                                  (x) int16\n",
       "   time_bounds                                        (number_of_time_bounds) float64\n",
       "   y_image_bounds                                     (number_of_image_bounds) float32\n",
       "   x_image_bounds                                     (number_of_image_bounds) float32\n",
       "   local_zenith_angle_bounds                          (number_of_LZA_bounds) float32\n",
       "   solar_zenith_angle_bounds                          (number_of_SZA_bounds) float32\n",
       "\n",
       "image:\n",
       "   HT                                                 (y, x) int16\n",
       "   DQF                                                (y, x) int8\n",
       "\n",
       "group:\n",
       ">"
      ]
     },
     "execution_count": 22,
     "metadata": {},
     "output_type": "execute_result"
    }
   ],
   "source": [
    "# set the map domain\n",
    "domain = [-50.0,-30.0,-5.0,15.0] #->  (x0, x1, y0, y1) \n",
    "\n",
    "# reads the file\n",
    "ds = GOES.open_dataset(file)\n",
    "ds.variable"
   ]
  },
  {
   "cell_type": "code",
   "execution_count": 23,
   "metadata": {},
   "outputs": [],
   "source": [
    "# get image with the coordinates of corners of their pixels\n",
    "CMI, LonCor, LatCor = ds.image('HT', lonlat='corner', domain=domain)\n",
    "\n",
    "# get information about data\n",
    "sat = ds.attribute('platform_ID')\n",
    "# band = ds.variable('band_id').data[0]"
   ]
  },
  {
   "cell_type": "markdown",
   "metadata": {},
   "source": [
    "Creates plot."
   ]
  },
  {
   "cell_type": "code",
   "execution_count": 30,
   "metadata": {},
   "outputs": [
    {
     "ename": "NameError",
     "evalue": "name 'ccrs' is not defined",
     "output_type": "error",
     "traceback": [
      "\u001b[1;31m---------------------------------------------------------------------------\u001b[0m",
      "\u001b[1;31mNameError\u001b[0m                                 Traceback (most recent call last)",
      "\u001b[1;32m~\\AppData\\Local\\Temp/ipykernel_10884/1738618903.py\u001b[0m in \u001b[0;36m<module>\u001b[1;34m\u001b[0m\n\u001b[0;32m      4\u001b[0m \u001b[1;31m# creates the figure\u001b[0m\u001b[1;33m\u001b[0m\u001b[1;33m\u001b[0m\u001b[1;33m\u001b[0m\u001b[0m\n\u001b[0;32m      5\u001b[0m \u001b[0mfig\u001b[0m \u001b[1;33m=\u001b[0m \u001b[0mplt\u001b[0m\u001b[1;33m.\u001b[0m\u001b[0mfigure\u001b[0m\u001b[1;33m(\u001b[0m\u001b[1;34m'map'\u001b[0m\u001b[1;33m,\u001b[0m \u001b[0mfigsize\u001b[0m\u001b[1;33m=\u001b[0m\u001b[1;33m(\u001b[0m\u001b[1;36m4\u001b[0m\u001b[1;33m,\u001b[0m\u001b[1;36m4\u001b[0m\u001b[1;33m)\u001b[0m\u001b[1;33m,\u001b[0m \u001b[0mdpi\u001b[0m\u001b[1;33m=\u001b[0m\u001b[1;36m200\u001b[0m\u001b[1;33m)\u001b[0m\u001b[1;33m\u001b[0m\u001b[1;33m\u001b[0m\u001b[0m\n\u001b[1;32m----> 6\u001b[1;33m \u001b[0max\u001b[0m \u001b[1;33m=\u001b[0m \u001b[0mfig\u001b[0m\u001b[1;33m.\u001b[0m\u001b[0madd_axes\u001b[0m\u001b[1;33m(\u001b[0m\u001b[1;33m[\u001b[0m\u001b[1;36m0.1\u001b[0m\u001b[1;33m,\u001b[0m \u001b[1;36m0.16\u001b[0m\u001b[1;33m,\u001b[0m \u001b[1;36m0.80\u001b[0m\u001b[1;33m,\u001b[0m \u001b[1;36m0.75\u001b[0m\u001b[1;33m]\u001b[0m\u001b[1;33m,\u001b[0m \u001b[0mprojection\u001b[0m\u001b[1;33m=\u001b[0m\u001b[0mccrs\u001b[0m\u001b[1;33m.\u001b[0m\u001b[0mPlateCarree\u001b[0m\u001b[1;33m(\u001b[0m\u001b[0mlon_cen\u001b[0m\u001b[1;33m)\u001b[0m\u001b[1;33m)\u001b[0m\u001b[1;33m\u001b[0m\u001b[1;33m\u001b[0m\u001b[0m\n\u001b[0m\u001b[0;32m      7\u001b[0m \u001b[0max\u001b[0m\u001b[1;33m.\u001b[0m\u001b[0moutline_patch\u001b[0m\u001b[1;33m.\u001b[0m\u001b[0mset_linewidth\u001b[0m\u001b[1;33m(\u001b[0m\u001b[1;36m0.3\u001b[0m\u001b[1;33m)\u001b[0m\u001b[1;33m\u001b[0m\u001b[1;33m\u001b[0m\u001b[0m\n\u001b[0;32m      8\u001b[0m \u001b[1;33m\u001b[0m\u001b[0m\n",
      "\u001b[1;31mNameError\u001b[0m: name 'ccrs' is not defined"
     ]
    },
    {
     "data": {
      "text/plain": [
       "<Figure size 800x800 with 0 Axes>"
      ]
     },
     "metadata": {},
     "output_type": "display_data"
    }
   ],
   "source": [
    "# calculates the central longitude of the plot\n",
    "lon_cen = 360.0+(domain[0]+domain[1])/2.0\n",
    "\n",
    "# creates the figure\n",
    "fig = plt.figure('map', figsize=(4,4), dpi=200)\n",
    "ax = fig.add_axes([0.1, 0.16, 0.80, 0.75], projection=ccrs.PlateCarree(lon_cen))\n",
    "ax.outline_patch.set_linewidth(0.3)\n",
    "\n",
    "# # add the geographic boundaries\n",
    "# l = NaturalEarthFeature(category='cultural', name='admin_0_countries', scale='50m', facecolor='none')\n",
    "# l\n",
    "# ax.add_feature(l, edgecolor='gold', linewidth=0.25)\n",
    "# ax.coastlines(color = 'gold')\n",
    "\n",
    "# plot the data\n",
    "img = ax.pcolormesh(LonCor.data, LatCor.data, CMI.data, cmap=plt.cm.Greys, transform=ccrs.PlateCarree())\n",
    "\n",
    "# add the colorbar\n",
    "cb = plt.colorbar(img, orientation='horizontal', extend='both', cax=fig.add_axes([0.12, 0.2, 0.76, 0.02]))\n",
    "\n",
    "# set the title\n",
    "ax.set_title('{} - C{}'.format(sat, band), fontsize=7, loc='left')\n",
    "ax.set_title(CMI.time_bounds.data[0], fontsize=7, loc='right')\n",
    "\n",
    "# set the map limits\n",
    "ax.set_extent([domain[0]+360.0, domain[1]+360.0, domain[2], domain[3]], crs=ccrs.PlateCarree())\n",
    "\n",
    "plt.show()"
   ]
  },
  {
   "cell_type": "code",
   "execution_count": null,
   "metadata": {},
   "outputs": [],
   "source": []
  }
 ],
 "metadata": {
  "kernelspec": {
   "display_name": "Python 3 (ipykernel)",
   "language": "python",
   "name": "python3"
  },
  "language_info": {
   "codemirror_mode": {
    "name": "ipython",
    "version": 3
   },
   "file_extension": ".py",
   "mimetype": "text/x-python",
   "name": "python",
   "nbconvert_exporter": "python",
   "pygments_lexer": "ipython3",
   "version": "3.8.11"
  }
 },
 "nbformat": 4,
 "nbformat_minor": 4
}
